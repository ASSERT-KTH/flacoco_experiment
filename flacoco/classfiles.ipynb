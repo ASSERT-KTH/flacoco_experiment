{
 "cells": [
  {
   "cell_type": "markdown",
   "id": "5a15af41",
   "metadata": {},
   "source": [
    "## Read the results"
   ]
  },
  {
   "cell_type": "code",
   "execution_count": 1,
   "id": "3ba5cd2b",
   "metadata": {},
   "outputs": [],
   "source": [
    "path_to_csv = \"results_classfiles/results.csv\""
   ]
  },
  {
   "cell_type": "code",
   "execution_count": 2,
   "id": "0cc8f788",
   "metadata": {},
   "outputs": [
    {
     "data": {
      "text/html": [
       "<div>\n",
       "<style scoped>\n",
       "    .dataframe tbody tr th:only-of-type {\n",
       "        vertical-align: middle;\n",
       "    }\n",
       "\n",
       "    .dataframe tbody tr th {\n",
       "        vertical-align: top;\n",
       "    }\n",
       "\n",
       "    .dataframe thead th {\n",
       "        text-align: right;\n",
       "    }\n",
       "</style>\n",
       "<table border=\"1\" class=\"dataframe\">\n",
       "  <thead>\n",
       "    <tr style=\"text-align: right;\">\n",
       "      <th></th>\n",
       "      <th></th>\n",
       "      <th>env</th>\n",
       "      <th>checkout</th>\n",
       "      <th>compile</th>\n",
       "      <th>classfiles</th>\n",
       "    </tr>\n",
       "    <tr>\n",
       "      <th>pid</th>\n",
       "      <th>bid</th>\n",
       "      <th></th>\n",
       "      <th></th>\n",
       "      <th></th>\n",
       "      <th></th>\n",
       "    </tr>\n",
       "  </thead>\n",
       "  <tbody>\n",
       "    <tr>\n",
       "      <th rowspan=\"5\" valign=\"top\">Chart</th>\n",
       "      <th>2</th>\n",
       "      <td>True</td>\n",
       "      <td>True</td>\n",
       "      <td>True</td>\n",
       "      <td>{'1.4': 682}</td>\n",
       "    </tr>\n",
       "    <tr>\n",
       "      <th>8</th>\n",
       "      <td>True</td>\n",
       "      <td>True</td>\n",
       "      <td>True</td>\n",
       "      <td>{'1.4': 608}</td>\n",
       "    </tr>\n",
       "    <tr>\n",
       "      <th>25</th>\n",
       "      <td>True</td>\n",
       "      <td>True</td>\n",
       "      <td>True</td>\n",
       "      <td>{'1.4': 609}</td>\n",
       "    </tr>\n",
       "    <tr>\n",
       "      <th>11</th>\n",
       "      <td>True</td>\n",
       "      <td>True</td>\n",
       "      <td>True</td>\n",
       "      <td>{'1.4': 608}</td>\n",
       "    </tr>\n",
       "    <tr>\n",
       "      <th>12</th>\n",
       "      <td>True</td>\n",
       "      <td>True</td>\n",
       "      <td>True</td>\n",
       "      <td>{'1.4': 608}</td>\n",
       "    </tr>\n",
       "    <tr>\n",
       "      <th>...</th>\n",
       "      <th>...</th>\n",
       "      <td>...</td>\n",
       "      <td>...</td>\n",
       "      <td>...</td>\n",
       "      <td>...</td>\n",
       "    </tr>\n",
       "    <tr>\n",
       "      <th rowspan=\"5\" valign=\"top\">JacksonCore</th>\n",
       "      <th>17</th>\n",
       "      <td>True</td>\n",
       "      <td>True</td>\n",
       "      <td>True</td>\n",
       "      <td>{'1.6': 89, '1.5': 7}</td>\n",
       "    </tr>\n",
       "    <tr>\n",
       "      <th>22</th>\n",
       "      <td>True</td>\n",
       "      <td>True</td>\n",
       "      <td>True</td>\n",
       "      <td>{'1.6': 101, '1.5': 8}</td>\n",
       "    </tr>\n",
       "    <tr>\n",
       "      <th>14</th>\n",
       "      <td>True</td>\n",
       "      <td>True</td>\n",
       "      <td>True</td>\n",
       "      <td>{'1.6': 89, '1.5': 7}</td>\n",
       "    </tr>\n",
       "    <tr>\n",
       "      <th>3</th>\n",
       "      <td>True</td>\n",
       "      <td>True</td>\n",
       "      <td>True</td>\n",
       "      <td>{'1.6': 87, '1.5': 7}</td>\n",
       "    </tr>\n",
       "    <tr>\n",
       "      <th>15</th>\n",
       "      <td>True</td>\n",
       "      <td>True</td>\n",
       "      <td>True</td>\n",
       "      <td>{'1.6': 89, '1.5': 7}</td>\n",
       "    </tr>\n",
       "  </tbody>\n",
       "</table>\n",
       "<p>835 rows × 4 columns</p>\n",
       "</div>"
      ],
      "text/plain": [
       "                  env  checkout  compile              classfiles\n",
       "pid         bid                                                 \n",
       "Chart       2    True      True     True            {'1.4': 682}\n",
       "            8    True      True     True            {'1.4': 608}\n",
       "            25   True      True     True            {'1.4': 609}\n",
       "            11   True      True     True            {'1.4': 608}\n",
       "            12   True      True     True            {'1.4': 608}\n",
       "...               ...       ...      ...                     ...\n",
       "JacksonCore 17   True      True     True   {'1.6': 89, '1.5': 7}\n",
       "            22   True      True     True  {'1.6': 101, '1.5': 8}\n",
       "            14   True      True     True   {'1.6': 89, '1.5': 7}\n",
       "            3    True      True     True   {'1.6': 87, '1.5': 7}\n",
       "            15   True      True     True   {'1.6': 89, '1.5': 7}\n",
       "\n",
       "[835 rows x 4 columns]"
      ]
     },
     "execution_count": 2,
     "metadata": {},
     "output_type": "execute_result"
    }
   ],
   "source": [
    "import pandas as pd\n",
    "\n",
    "data = pd.read_csv(path_to_csv, index_col=[\"pid\", \"bid\"])\n",
    "data"
   ]
  },
  {
   "cell_type": "markdown",
   "id": "2981388d",
   "metadata": {},
   "source": [
    "## Process the results"
   ]
  },
  {
   "cell_type": "markdown",
   "id": "b82177a8",
   "metadata": {},
   "source": [
    "Check if all bugs executed correctly"
   ]
  },
  {
   "cell_type": "code",
   "execution_count": 3,
   "id": "af653001",
   "metadata": {},
   "outputs": [
    {
     "data": {
      "text/html": [
       "<div>\n",
       "<style scoped>\n",
       "    .dataframe tbody tr th:only-of-type {\n",
       "        vertical-align: middle;\n",
       "    }\n",
       "\n",
       "    .dataframe tbody tr th {\n",
       "        vertical-align: top;\n",
       "    }\n",
       "\n",
       "    .dataframe thead th {\n",
       "        text-align: right;\n",
       "    }\n",
       "</style>\n",
       "<table border=\"1\" class=\"dataframe\">\n",
       "  <thead>\n",
       "    <tr style=\"text-align: right;\">\n",
       "      <th></th>\n",
       "      <th></th>\n",
       "      <th>env</th>\n",
       "      <th>checkout</th>\n",
       "      <th>compile</th>\n",
       "      <th>classfiles</th>\n",
       "    </tr>\n",
       "    <tr>\n",
       "      <th>pid</th>\n",
       "      <th>bid</th>\n",
       "      <th></th>\n",
       "      <th></th>\n",
       "      <th></th>\n",
       "      <th></th>\n",
       "    </tr>\n",
       "  </thead>\n",
       "  <tbody>\n",
       "    <tr>\n",
       "      <th rowspan=\"5\" valign=\"top\">Chart</th>\n",
       "      <th>2</th>\n",
       "      <td>True</td>\n",
       "      <td>True</td>\n",
       "      <td>True</td>\n",
       "      <td>{'1.4': 682}</td>\n",
       "    </tr>\n",
       "    <tr>\n",
       "      <th>8</th>\n",
       "      <td>True</td>\n",
       "      <td>True</td>\n",
       "      <td>True</td>\n",
       "      <td>{'1.4': 608}</td>\n",
       "    </tr>\n",
       "    <tr>\n",
       "      <th>25</th>\n",
       "      <td>True</td>\n",
       "      <td>True</td>\n",
       "      <td>True</td>\n",
       "      <td>{'1.4': 609}</td>\n",
       "    </tr>\n",
       "    <tr>\n",
       "      <th>11</th>\n",
       "      <td>True</td>\n",
       "      <td>True</td>\n",
       "      <td>True</td>\n",
       "      <td>{'1.4': 608}</td>\n",
       "    </tr>\n",
       "    <tr>\n",
       "      <th>12</th>\n",
       "      <td>True</td>\n",
       "      <td>True</td>\n",
       "      <td>True</td>\n",
       "      <td>{'1.4': 608}</td>\n",
       "    </tr>\n",
       "    <tr>\n",
       "      <th>...</th>\n",
       "      <th>...</th>\n",
       "      <td>...</td>\n",
       "      <td>...</td>\n",
       "      <td>...</td>\n",
       "      <td>...</td>\n",
       "    </tr>\n",
       "    <tr>\n",
       "      <th rowspan=\"5\" valign=\"top\">JacksonCore</th>\n",
       "      <th>17</th>\n",
       "      <td>True</td>\n",
       "      <td>True</td>\n",
       "      <td>True</td>\n",
       "      <td>{'1.6': 89, '1.5': 7}</td>\n",
       "    </tr>\n",
       "    <tr>\n",
       "      <th>22</th>\n",
       "      <td>True</td>\n",
       "      <td>True</td>\n",
       "      <td>True</td>\n",
       "      <td>{'1.6': 101, '1.5': 8}</td>\n",
       "    </tr>\n",
       "    <tr>\n",
       "      <th>14</th>\n",
       "      <td>True</td>\n",
       "      <td>True</td>\n",
       "      <td>True</td>\n",
       "      <td>{'1.6': 89, '1.5': 7}</td>\n",
       "    </tr>\n",
       "    <tr>\n",
       "      <th>3</th>\n",
       "      <td>True</td>\n",
       "      <td>True</td>\n",
       "      <td>True</td>\n",
       "      <td>{'1.6': 87, '1.5': 7}</td>\n",
       "    </tr>\n",
       "    <tr>\n",
       "      <th>15</th>\n",
       "      <td>True</td>\n",
       "      <td>True</td>\n",
       "      <td>True</td>\n",
       "      <td>{'1.6': 89, '1.5': 7}</td>\n",
       "    </tr>\n",
       "  </tbody>\n",
       "</table>\n",
       "<p>835 rows × 4 columns</p>\n",
       "</div>"
      ],
      "text/plain": [
       "                  env  checkout  compile              classfiles\n",
       "pid         bid                                                 \n",
       "Chart       2    True      True     True            {'1.4': 682}\n",
       "            8    True      True     True            {'1.4': 608}\n",
       "            25   True      True     True            {'1.4': 609}\n",
       "            11   True      True     True            {'1.4': 608}\n",
       "            12   True      True     True            {'1.4': 608}\n",
       "...               ...       ...      ...                     ...\n",
       "JacksonCore 17   True      True     True   {'1.6': 89, '1.5': 7}\n",
       "            22   True      True     True  {'1.6': 101, '1.5': 8}\n",
       "            14   True      True     True   {'1.6': 89, '1.5': 7}\n",
       "            3    True      True     True   {'1.6': 87, '1.5': 7}\n",
       "            15   True      True     True   {'1.6': 89, '1.5': 7}\n",
       "\n",
       "[835 rows x 4 columns]"
      ]
     },
     "execution_count": 3,
     "metadata": {},
     "output_type": "execute_result"
    }
   ],
   "source": [
    "data = data.loc[data.env & data.checkout & data.compile]\n",
    "data"
   ]
  },
  {
   "cell_type": "markdown",
   "id": "8d17dc69",
   "metadata": {},
   "source": [
    "Now we focus on the classfiles data"
   ]
  },
  {
   "cell_type": "code",
   "execution_count": 4,
   "id": "bfcf2417",
   "metadata": {},
   "outputs": [
    {
     "data": {
      "text/plain": [
       "pid          bid\n",
       "Chart        2                {'1.4': 682}\n",
       "             8                {'1.4': 608}\n",
       "             25               {'1.4': 609}\n",
       "             11               {'1.4': 608}\n",
       "             12               {'1.4': 608}\n",
       "                             ...          \n",
       "JacksonCore  17      {'1.6': 89, '1.5': 7}\n",
       "             22     {'1.6': 101, '1.5': 8}\n",
       "             14      {'1.6': 89, '1.5': 7}\n",
       "             3       {'1.6': 87, '1.5': 7}\n",
       "             15      {'1.6': 89, '1.5': 7}\n",
       "Name: classfiles, Length: 835, dtype: object"
      ]
     },
     "execution_count": 4,
     "metadata": {},
     "output_type": "execute_result"
    }
   ],
   "source": [
    "classfiles = data.classfiles\n",
    "classfiles"
   ]
  },
  {
   "cell_type": "code",
   "execution_count": 5,
   "id": "eba462cd",
   "metadata": {},
   "outputs": [],
   "source": [
    "import ast\n",
    "\n",
    "classfiles_dicts = [ast.literal_eval(entry) for entry in classfiles]"
   ]
  },
  {
   "cell_type": "markdown",
   "id": "512c0e89",
   "metadata": {},
   "source": [
    "## Analyse the results"
   ]
  },
  {
   "cell_type": "markdown",
   "id": "d74416da",
   "metadata": {},
   "source": [
    "How many classfile versions does each project have?"
   ]
  },
  {
   "cell_type": "code",
   "execution_count": 6,
   "id": "7942ed4e",
   "metadata": {},
   "outputs": [
    {
     "data": {
      "image/png": "[encoded data removed]",
      "text/plain": [
       "<Figure size 432x288 with 1 Axes>"
      ]
     },
     "metadata": {},
     "output_type": "display_data"
    }
   ],
   "source": [
    "import matplotlib.pyplot as plt\n",
    "import numpy as np\n",
    "import json\n",
    "\n",
    "classfile_versions_per_project = {}\n",
    "for size in [len(entry) for entry in classfiles_dicts]:\n",
    "    if size in classfile_versions_per_project:\n",
    "        classfile_versions_per_project[size] += 1\n",
    "    else:\n",
    "        classfile_versions_per_project[size] = 1\n",
    "plt.pie(classfile_versions_per_project.values(), labels=classfile_versions_per_project.keys(), autopct='%1.1f%%', startangle=90)\n",
    "plt.show()"
   ]
  },
  {
   "cell_type": "code",
   "execution_count": 7,
   "id": "2363ec46",
   "metadata": {},
   "outputs": [
    {
     "data": {
      "image/png": "[encoded data removed]",
      "text/plain": [
       "<Figure size 432x288 with 1 Axes>"
      ]
     },
     "metadata": {},
     "output_type": "display_data"
    },
    {
     "data": {
      "text/plain": [
       "{\"['1.4']\": 51,\n",
       " \"['1.5', '1.7']\": 93,\n",
       " \"['1.6']\": 133,\n",
       " \"['1.7']\": 117,\n",
       " \"['1.5']\": 306,\n",
       " \"['1.5', '1.6']\": 107,\n",
       " \"['1.3']\": 4,\n",
       " \"['1.1']\": 19,\n",
       " \"['1.2']\": 5}"
      ]
     },
     "execution_count": 7,
     "metadata": {},
     "output_type": "execute_result"
    }
   ],
   "source": [
    "import matplotlib.pyplot as plt\n",
    "import numpy as np\n",
    "import json\n",
    "\n",
    "paired_versions_per_project = [str(sorted(list(entry.keys()))) for entry in classfiles_dicts]\n",
    "paired_versions = {}\n",
    "for pair in paired_versions_per_project:\n",
    "    if pair in paired_versions:\n",
    "        paired_versions[pair] += 1\n",
    "    else:\n",
    "        paired_versions[pair] = 1\n",
    "plt.pie(paired_versions.values(), labels=paired_versions.keys(), autopct='%1.1f%%', startangle=90)\n",
    "plt.show()\n",
    "\n",
    "paired_versions"
   ]
  },
  {
   "cell_type": "markdown",
   "id": "2f37e0e0",
   "metadata": {},
   "source": [
    "What is the distribution of version throughout all classfiles?"
   ]
  },
  {
   "cell_type": "code",
   "execution_count": 8,
   "id": "f1e9112e",
   "metadata": {},
   "outputs": [
    {
     "data": {
      "image/png": "[encoded data removed]",
      "text/plain": [
       "<Figure size 432x288 with 1 Axes>"
      ]
     },
     "metadata": {},
     "output_type": "display_data"
    }
   ],
   "source": [
    "classfile_versions = {}\n",
    "for project in classfiles_dicts:\n",
    "    for version in project:\n",
    "        if version in classfile_versions_per_project:\n",
    "            classfile_versions[version] += project[version]\n",
    "        else:\n",
    "            classfile_versions[version] = project[version]\n",
    "plt.pie(classfile_versions.values(), labels=classfile_versions.keys(), autopct='%1.1f%%', startangle=90)\n",
    "plt.show()"
   ]
  },
  {
   "cell_type": "markdown",
   "id": "3703955f",
   "metadata": {},
   "source": [
    "What is the distribution if we consider only one version per project?"
   ]
  },
  {
   "cell_type": "code",
   "execution_count": 9,
   "id": "b3718867",
   "metadata": {},
   "outputs": [
    {
     "name": "stdout",
     "output_type": "stream",
     "text": [
      "{'1.4': 51, '1.7': 210, '1.6': 240, '1.5': 306, '1.3': 4, '1.1': 19, '1.2': 5}\n"
     ]
    },
    {
     "data": {
      "image/png": "[encoded data removed]",
      "text/plain": [
       "<Figure size 432x288 with 1 Axes>"
      ]
     },
     "metadata": {},
     "output_type": "display_data"
    }
   ],
   "source": [
    "classfile_versions = {}\n",
    "for project in classfiles_dicts:\n",
    "    max_entry = None\n",
    "    max_value = -1\n",
    "    for version in project:\n",
    "        if project[version] > max_value:\n",
    "            max_entry = version\n",
    "            max_value = project[version]\n",
    "    if max_entry in classfile_versions.keys():\n",
    "        classfile_versions[max_entry] += 1\n",
    "    else:\n",
    "        classfile_versions[max_entry] = 1\n",
    "        \n",
    "print(classfile_versions)\n",
    "        \n",
    "def label_func(x, pct, total):\n",
    "    absolute = int(np.round(pct/100.*total))\n",
    "    return \"{} - {:.1f}% ({:d})\".format(x, pct, absolute)\n",
    "\n",
    "x = np.array(sorted(list(classfile_versions.keys())))\n",
    "y = np.array([classfile_versions[xi] for xi in x])\n",
    "total = y.sum()\n",
    "percent = 100.*y/total\n",
    "\n",
    "patches, texts = plt.pie(y, startangle=90)\n",
    "labels = [label_func(x, pct, total) for x, pct in zip(x, percent)]\n",
    "\n",
    "plt.legend(patches, labels, loc='center left', bbox_to_anchor=(-0.5, 0.5))\n",
    "plt.savefig(\"classfiles.svg\", bbox_inches = \"tight\")\n",
    "plt.show()"
   ]
  },
  {
   "cell_type": "code",
   "execution_count": null,
   "id": "eac343f6",
   "metadata": {},
   "outputs": [],
   "source": []
  }
 ],
 "metadata": {
  "kernelspec": {
   "display_name": "Python 3 (ipykernel)",
   "language": "python",
   "name": "python3"
  },
  "language_info": {
   "codemirror_mode": {
    "name": "ipython",
    "version": 3
   },
   "file_extension": ".py",
   "mimetype": "text/x-python",
   "name": "python",
   "nbconvert_exporter": "python",
   "pygments_lexer": "ipython3",
   "version": "3.10.7"
  }
 },
 "nbformat": 4,
 "nbformat_minor": 5
}
